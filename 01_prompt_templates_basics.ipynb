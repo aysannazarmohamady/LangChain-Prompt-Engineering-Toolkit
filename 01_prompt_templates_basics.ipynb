{
 "cells": [
  {
   "cell_type": "markdown",
   "metadata": {},
   "source": [
    "# LangChain Prompt Templates: Basics\n",
    "\n",
    "In this notebook, we'll explore the fundamentals of `PromptTemplate` in LangChain, a powerful tool for creating dynamic prompts for language models.\n",
    "\n",
    "## Introduction\n",
    "\n",
    "A `PromptTemplate` is a structure that allows you to dynamically generate prompts for language models by injecting variables into a template string. This is particularly useful when you need to create prompts that vary based on user input or other dynamic data."
   ]
  },
  {
   "cell_type": "code",
   "execution_count": 1,
   "metadata": {},
   "outputs": [],
   "source": [
    "# Install required packages\n",
    "# Uncomment if you're running this for the first time\n",
    "# !pip install -q langchain-core langchain-openai"
   ]
  },
  {
   "cell_type": "code",
   "execution_count": 2,
   "metadata": {},
   "outputs": [],
   "source": [
    "# Import the required modules\n",
    "from langchain_core.prompts import PromptTemplate\n",
    "import json\n",
    "\n",
    "# A helper function for pretty-printing\n",
    "def pretty_print(data):\n",
    "    \"\"\"Converts dictionaries, lists, or objects to JSON and prints them in a pretty format.\"\"\"\n",
    "    # Convert objects to dictionaries if necessary\n",
    "    if not isinstance(data, (dict, list)):\n",
    "        try:\n",
    "            data = vars(data)  # Convert object to dictionary\n",
    "        except TypeError:\n",
    "            pass  # If vars() fails, treat as-is\n",
    "    \n",
    "    # Convert to JSON and print with indentation\n",
    "    pretty_json = json.dumps(data, indent=4, default=str)\n",
    "    print(pretty_json)"
   ]
  },
  {
   "cell_type": "markdown",
   "metadata": {},
   "source": [
    "## 1. Basic PromptTemplate\n",
    "\n",
    "Let's start with a simple example of a `PromptTemplate`."
   ]
  },
  {
   "cell_type": "code",
   "execution_count": 3,
   "metadata": {},
   "outputs": [
    {
     "name": "stdout",
     "output_type": "stream",
     "text": [
      "Write a short story about a robot learning to paint.\n"
     ]
    }
   ],
   "source": [
    "# Define a simple prompt template\n",
    "template = PromptTemplate.from_template(\"Write a short story about {topic}.\")\n",
    "formatted_prompt = template.format(topic=\"a robot learning to paint\")\n",
    "\n",
    "print(formatted_prompt)"
   ]
  },
  {
   "cell_type": "markdown",
   "metadata": {},
   "source": [
    "## 2. Multiple Variables\n",
    "\n",
    "A `PromptTemplate` can include multiple variables."
   ]
  },
  {
   "cell_type": "code",
   "execution_count": 4,
   "metadata": {},
   "outputs": [
    {
     "name": "stdout",
     "output_type": "stream",
     "text": [
      "Write a short story about a robot in the style of science fiction with a theme of friendship.\n"
     ]
    }
   ],
   "source": [
    "# Define a template with multiple variables\n",
    "template = PromptTemplate.from_template(\"Write a short story about {character} in the style of {genre} with a theme of {theme}.\")\n",
    "formatted_prompt = template.format(character=\"a robot\", genre=\"science fiction\", theme=\"friendship\")\n",
    "\n",
    "print(formatted_prompt)"
   ]
  },
  {
   "cell_type": "markdown",
   "metadata": {},
   "source": [
    "## 3. Creating a Template with Explicit Input Variables\n",
    "\n",
    "You can also create a `PromptTemplate` by explicitly specifying the input variables."
   ]
  },
  {
   "cell_type": "code",
   "execution_count": 5,
   "metadata": {},
   "outputs": [
    {
     "name": "stdout",
     "output_type": "stream",
     "text": [
      "Translate the following English text to French: Hello, how are you?\n"
     ]
    }
   ],
   "source": [
    "# Define a template with explicit input variables\n",
    "template = PromptTemplate(\n",
    "    input_variables=[\"text\"],\n",
    "    template=\"Translate the following English text to French: {text}\",\n",
    ")\n",
    "formatted_prompt = template.format(text=\"Hello, how are you?\")\n",
    "\n",
    "print(formatted_prompt)"
   ]
  },
  {
   "cell_type": "markdown",
   "metadata": {},
   "source": [
    "## 4. Partial Templates\n",
    "\n",
    "You can partially fill a template, creating a new template with fewer variables."
   ]
  },
  {
   "cell_type": "code",
   "execution_count": 6,
   "metadata": {},
   "outputs": [
    {
     "name": "stdout",
     "output_type": "stream",
     "text": [
      "Write an article about climate change in the style of a scientific journal.\n"
     ]
    }
   ],
   "source": [
    "# Create a template with multiple variables\n",
    "template = PromptTemplate.from_template(\"Write an article about {topic} in the style of {style}.\")\n",
    "\n",
    "# Create a partial template\n",
    "scientific_template = template.partial(style=\"a scientific journal\")\n",
    "formatted_prompt = scientific_template.format(topic=\"climate change\")\n",
    "\n",
    "print(formatted_prompt)"
   ]
  },
  {
   "cell_type": "markdown",
   "metadata": {},
   "source": [
    "## 5. Template Validation\n",
    "\n",
    "LangChain validates that all variables in the template are provided."
   ]
  },
  {
   "cell_type": "code",
   "execution_count": 7,
   "metadata": {},
   "outputs": [
    {
     "name": "stdout",
     "output_type": "stream",
     "text": [
      "Error demonstration: Missing variables ['city']\n"
     ]
    }
   ],
   "source": [
    "# Define a template with multiple variables\n",
    "template = PromptTemplate.from_template(\"The weather in {city} is {weather} today.\")\n",
    "\n",
    "try:\n",
    "    # Try to format with missing variables\n",
    "    formatted_prompt = template.format(weather=\"sunny\")\n",
    "except Exception as e:\n",
    "    print(f\"Error demonstration: {e}\")"
   ]
  },
  {
   "cell_type": "markdown",
   "metadata": {},
   "source": [
    "## 6. Integration with Language Models\n",
    "\n",
    "Let's see how to use `PromptTemplate` with a language model. You'll need to add your API key to run this cell."
   ]
  },
  {
   "cell_type": "code",
   "execution_count": 8,
   "metadata": {},
   "outputs": [],
   "source": [
    "# Uncomment and run this with your API key\n",
    "'''\n",
    "from langchain_openai import OpenAI\n",
    "import os\n",
    "\n",
    "# Set your OpenAI API key\n",
    "os.environ[\"OPENAI_API_KEY\"] = \"your-api-key-here\"\n",
    "\n",
    "# Create a language model instance\n",
    "llm = OpenAI(temperature=0.7)\n",
    "\n",
    "# Define a template\n",
    "template = PromptTemplate.from_template(\"Give me a list of 5 {adjective} {noun}.\")\n",
    "\n",
    "# Format the template\n",
    "prompt = template.format(adjective=\"creative\", noun=\"business ideas\")\n",
    "\n",
    "# Get a response from the model\n",
    "response = llm.invoke(prompt)\n",
    "print(response)\n",
    "'''"
   ]
  },
  {
   "cell_type": "markdown",
   "metadata": {},
   "source": [
    "## 7. FewShotPromptTemplate Example\n",
    "\n",
    "The `FewShotPromptTemplate` allows you to provide a few examples to guide the model's output."
   ]
  },
  {
   "cell_type": "code",
   "execution_count": 9,
   "metadata": {},
   "outputs": [
    {
     "name": "stdout",
     "output_type": "stream",
     "text": [
      "Convert these into French.\n",
      "\n",
      "English: Hello, how are you?\n",
      "French: Bonjour, comment ça va?\n",
      "\n",
      "English: I love programming.\n",
      "French: J'adore la programmation.\n",
      "\n",
      "English: What is your name?\n",
      "French: Comment vous appelez-vous?\n",
      "\n",
      "English: Thank you for your help.\n",
      "French:\n"
     ]
    }
   ],
   "source": [
    "from langchain_core.prompts import FewShotPromptTemplate\n",
    "\n",
    "# Define our examples\n",
    "examples = [\n",
    "    {\"English\": \"Hello, how are you?\", \"French\": \"Bonjour, comment ça va?\"},\n",
    "    {\"English\": \"I love programming.\", \"French\": \"J'adore la programmation.\"},\n",
    "    {\"English\": \"What is your name?\", \"French\": \"Comment vous appelez-vous?\"},\n",
    "]\n",
    "\n",
    "# Define the format of each example\n",
    "example_template = \"\"\"English: {English}\n",
    "French: {French}\"\"\"\n",
    "example_prompt = PromptTemplate.from_template(example_template)\n",
    "\n",
    "# Create the few-shot template\n",
    "few_shot_prompt = FewShotPromptTemplate(\n",
    "    examples=examples,\n",
    "    example_prompt=example_prompt,\n",
    "    prefix=\"Convert these into French.\",\n",
    "    suffix=\"English: {input}\\nFrench:\",\n",
    "    input_variables=[\"input\"],\n",
    ")\n",
    "\n",
    "# Format the prompt\n",
    "formatted_prompt = few_shot_prompt.format(input=\"Thank you for your help.\")\n",
    "print(formatted_prompt)"
   ]
  },
  {
   "cell_type": "markdown",
   "metadata": {},
   "source": [
    "## 8. Template with Example Selectors\n",
    "\n",
    "You can use example selectors to dynamically choose which examples to include."
   ]
  },
  {
   "cell_type": "code",
   "execution_count": 10,
   "metadata": {},
   "outputs": [
    {
     "name": "stdout",
     "output_type": "stream",
     "text": [
      "Using only 2 examples:\n",
      "Convert the following sentences.\n",
      "\n",
      "English: I love programming.\n",
      "French: J'adore la programmation.\n",
      "\n",
      "English: What is your name?\n",
      "French: Comment vous appelez-vous?\n",
      "\n",
      "English: Thank you for your help.\n",
      "French:\n"
     ]
    }
   ],
   "source": [
    "from langchain_core.example_selectors import LengthBasedExampleSelector\n",
    "\n",
    "# Create an example selector\n",
    "example_selector = LengthBasedExampleSelector(\n",
    "    examples=examples,\n",
    "    example_prompt=example_prompt,\n",
    "    max_length=50  # Adjust this number to control how many examples are included\n",
    ")\n",
    "\n",
    "# Create a few-shot template with the selector\n",
    "dynamic_few_shot_prompt = FewShotPromptTemplate(\n",
    "    example_selector=example_selector,\n",
    "    example_prompt=example_prompt,\n",
    "    prefix=\"Convert the following sentences.\",\n",
    "    suffix=\"English: {input}\\nFrench:\",\n",
    "    input_variables=[\"input\"],\n",
    ")\n",
    "\n",
    "# Format the prompt\n",
    "print(\"Using only 2 examples:\")\n",
    "formatted_prompt = dynamic_few_shot_prompt.format(input=\"Thank you for your help.\")\n",
    "print(formatted_prompt)"
   ]
  },
  {
   "cell_type": "markdown",
   "metadata": {},
   "source": [
    "## Conclusion\n",
    "\n",
    "In this notebook, we've explored the basics of `PromptTemplate` in LangChain. We've seen how to:\n",
    "\n",
    "1. Create simple templates\n",
    "2. Use multiple variables\n",
    "3. Create templates with explicit input variables\n",
    "4. Create partial templates\n",
    "5. Validate templates\n",
    "6. Integrate templates with language models\n",
    "7. Use few-shot templates with examples\n",
    "8. Dynamically select examples\n",
    "\n",
    "These techniques provide a powerful foundation for creating dynamic prompts for language models. In the next notebooks, we'll explore more advanced concepts like `ChatPromptTemplate` and `MessagesPlaceholder`."
   ]
  }
 ],
 "metadata": {
  "kernelspec": {
   "display_name": "Python 3",
   "language": "python",
   "name": "python3"
  },
  "language_info": {
   "codemirror_mode": {
    "name": "ipython",
    "version": 3
   },
   "file_extension": ".py",
   "mimetype": "text/x-python",
   "name": "python",
   "nbconvert_exporter": "python",
   "pygments_lexer": "ipython3",
   "version": "3.8.10"
  }
 },
 "nbformat": 4,
 "nbformat_minor": 4
}
